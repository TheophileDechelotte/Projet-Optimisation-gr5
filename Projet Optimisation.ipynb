{
 "cells": [
  {
   "cell_type": "markdown",
   "id": "351d9244",
   "metadata": {},
   "source": [
    "## Mini projet Optimisation - groupe 5"
   ]
  },
  {
   "cell_type": "markdown",
   "id": "bddb53eb",
   "metadata": {},
   "source": [
    "### I. Etude du problème d'optimisation"
   ]
  },
  {
   "cell_type": "markdown",
   "id": "eba40531",
   "metadata": {},
   "source": [
    "$\\underline{Question~ 1}$ "
   ]
  },
  {
   "cell_type": "markdown",
   "id": "38d45efe",
   "metadata": {},
   "source": [
    "La dynamique de charge est donnée par : $Q_{j,i+1} = Q_{j,i} + \\Delta t \\beta_j P_{j,i}$\n",
    "\n",
    "Le terme $\\beta_j P_{j,i}$ correspond au taux d'accroissement de la charge du véhicule, il est homogène à puissance/tension. Il dépend de la puissance délivrée par la station de charge avec le terme $P_{j,i}$ (homogène à une puissance), et du rendement de charge du véhicule avec le terme $\\beta_j$ (inverse d'une tension).\n",
    "Le produit $\\beta_j P_{j,i}$ correspond donc à la puissance délivrée par la station au véhicule j. \n",
    "\n",
    "On a donc que la charge $Q_{j,i+1}$ du véhicule j après un temps $\\Delta t$ de recharge est égale à la charge initiale $Q_{j,i}$ plus la puissance délivrée par la station au véhicule j $\\beta_j P_{j,i}$ multiplié par le temps de charge $\\Delta t$.\n"
   ]
  },
  {
   "cell_type": "markdown",
   "id": "2af5382d",
   "metadata": {},
   "source": [
    "$$\n",
    "$$"
   ]
  },
  {
   "cell_type": "markdown",
   "id": "9287c05d",
   "metadata": {},
   "source": [
    "$\\underline{Question~ 2}$"
   ]
  },
  {
   "cell_type": "markdown",
   "id": "605fe2d8",
   "metadata": {},
   "source": [
    "On assimile la fonction f au coût électrique de charge donnée par \n",
    "$$\n",
    "\\Delta t \\sum_{j=1}^{N_v} \\sum_{i=0}^{N} c_{i} P_{j, i}\n",
    "$$ \n",
    "Posons $P = (P_{j,i})_{j \\in \\llbracket 1, N_{v} \\rrbracket\n",
    "\\\\\n",
    "i \\in \\llbracket 0, N \\rrbracket }$ \n",
    "\n",
    "Les variables de décision sont les $P_{j,i}$, coefficients de la matrice P. On a donc $N_{v}(N+1)$ variables de décision.\n",
    "\n",
    "On a donc \n",
    "$$\n",
    "f(P) = \\Delta t \\sum_{j=1}^{N_v} \\sum_{i=0}^{N} c_{i} P_{j, i}\n",
    "$$\n",
    "\n",
    "L'objectif est de minimiser cette fonction $f$ en fonction des variables $P_{j,i}$.\n",
    "\n",
    "De plus les conditions à respecter sont : \n",
    "- la puissance fournie par la station est limitée : \n",
    "$$\n",
    "\\sum_{j=1}^{N_{v}} P_{j, i} - \\bar{P} \\leq 0 , \\quad i=0, \\ldots, N\n",
    "$$\n",
    "Donc \n",
    "$$\n",
    "c_{in}(P) = \\sum_{j=1}^{N_{v}} P_{j, i} - \\bar{P} \\leq 0\n",
    "$$\n",
    "- Les voitures sont chargées à la fin du temps de charge et ont une certaine charge à l'arrivée :\n",
    "$$\n",
    "\\sum_{i=i_{j0}}^{i_{jf}}P_{j,i}= \\frac{1}{\\Delta t \\beta_j}(\\bar{Q}_j-Q_j^{in}) , \\quad j \\in {1,\\ldots,N_v}\n",
    "$$\n",
    "D'où \n",
    "$$\n",
    "c_{eq}(P) = \\sum_{i=i_{j0}}^{i_{jf}}P_{j,i}- \\frac{1}{\\Delta t \\beta_j}(\\bar{Q}_j-Q_j^{in}) = 0\n",
    "$$\n",
    "\n"
   ]
  },
  {
   "cell_type": "markdown",
   "id": "2db66dbd",
   "metadata": {},
   "source": [
    "$$\n",
    "\n",
    "$$"
   ]
  },
  {
   "cell_type": "markdown",
   "id": "1562e3b9",
   "metadata": {},
   "source": [
    "$\\underline{Question~ 3}$"
   ]
  },
  {
   "cell_type": "markdown",
   "id": "40bae819",
   "metadata": {},
   "source": [
    "Soit $P = (P_{j,i})_{j \\in \\llbracket 1, N_{v} \\rrbracket\n",
    "\\\\\n",
    "i \\in \\llbracket 0, N \\rrbracket }$\n",
    "$R = (R_{j,i})_{j \\in \\llbracket 1, N_{v} \\rrbracket\n",
    "\\\\\n",
    "i \\in \\llbracket 0, N \\rrbracket }$\n",
    "$$\n",
    "\\lambda \\in [0,1]\n",
    "$$\n",
    "\n",
    "On a \n",
    "$$\n",
    "f(\\lambda P+(1-\\lambda) R) = \\Delta t \\sum_{j=1}^{N_v} \\sum_{i=0}^{N} c_{i}\\left(\\lambda P_{j,i}+(1-\\lambda) R_{j,i}\\right)\n",
    "\\\\\n",
    "= \\lambda \\Delta t \\sum_{j=1}^{N_v} \\sum_{i=0}^{N} c_{i} P_{j,i} + (1 - \\lambda) \\Delta t \\sum_{j=1}^{N_v} \\sum_{i=0}^{N} c_{i} R_{j,i}\n",
    "$$\n",
    "On a donc \n",
    "$$\n",
    "f(\\lambda P+(1-\\lambda) R) = \\lambda f(P) + (1 - \\lambda) f(R)\n",
    "$$\n",
    "\n",
    "Le problème est donc linéaire et convexe, il appartient à la famille des problèmes linéaires.\n"
   ]
  },
  {
   "cell_type": "markdown",
   "id": "b1dc42fa",
   "metadata": {},
   "source": [
    "$\\\\$"
   ]
  },
  {
   "cell_type": "markdown",
   "id": "a328a1b0",
   "metadata": {},
   "source": [
    "$\\underline{Question ~ 4}$\n"
   ]
  },
  {
   "cell_type": "markdown",
   "id": "d494b86b",
   "metadata": {},
   "source": [
    "On suppose que \n",
    "\n",
    "$\n",
    "\\bar{Q_j} = \\bar{Q} \n",
    "$ \n",
    "et que $\\beta_j=\\beta\n",
    "$"
   ]
  },
  {
   "cell_type": "markdown",
   "id": "0b032515",
   "metadata": {},
   "source": [
    "### Importations"
   ]
  },
  {
   "cell_type": "code",
   "execution_count": 1,
   "id": "ded05d5c",
   "metadata": {},
   "outputs": [],
   "source": [
    "import numpy as np \n",
    "import pandas as pd\n",
    "import matplotlib.pyplot as plt\n",
    "import scipy\n"
   ]
  },
  {
   "cell_type": "markdown",
   "id": "4e4c7843",
   "metadata": {},
   "source": [
    "On calcule $\\bar{Q}$ à l'aide des données du fichier .csv."
   ]
  },
  {
   "cell_type": "code",
   "execution_count": 2,
   "id": "138e432e",
   "metadata": {},
   "outputs": [],
   "source": [
    "data=pd.read_csv(\"data_battery.csv\")"
   ]
  },
  {
   "cell_type": "code",
   "execution_count": 3,
   "id": "498107b1",
   "metadata": {},
   "outputs": [
    {
     "name": "stdout",
     "output_type": "stream",
     "text": [
      "En 4.990431526910167 minutes, la batterie s'est déchargée de 15.566128191874649 Ah ce qui correspond à 37.6456516872624% de la charge totale. Donc la charge totale est de 41.349073516348575 Ah.\n"
     ]
    }
   ],
   "source": [
    "t=299.42589161461\n",
    "delta_SOC=0.631646164917691-0.255189648045067\n",
    "sum=np.sum(np.array(data[\"I[A]\"]))\n",
    "Q_bar=-sum*t/3600/delta_SOC\n",
    "\n",
    "print(f\"En {t/60} minutes, la batterie s'est déchargée de {-sum*t/3600} Ah ce qui correspond à {delta_SOC*100}% de la charge totale. Donc la charge totale est de {-sum*t/3600/delta_SOC} Ah.\")"
   ]
  },
  {
   "cell_type": "markdown",
   "id": "71fa0f2f",
   "metadata": {},
   "source": [
    "Donc \n",
    "\n",
    "$$\n",
    "\\bar{Q}=41,3  Ah \n",
    "$$\n"
   ]
  },
  {
   "cell_type": "markdown",
   "id": "66a36362",
   "metadata": {},
   "source": [
    "$\\\\$"
   ]
  },
  {
   "cell_type": "markdown",
   "id": "a328a1b0",
   "metadata": {},
   "source": [
    "$\\underline{Question ~ 5}$\n"
   ]
  },
  {
   "cell_type": "markdown",
   "id": "d7736321",
   "metadata": {},
   "source": [
    "Formulons le problème des moindres carrés permettant de déterminer $\\beta$.\n",
    "\n",
    "On a déjà dans cet essai $N_v = 1$\n",
    "\n",
    "La relation de la dynamique de charge se réduit donc à \n",
    "$$\n",
    "Q_{i+1}=Q_i+\\Delta t \\beta P_i=Q_i+\\Delta t \\beta U_{sec}I_i\n",
    "$$\n",
    "\n",
    "On cherche donc à trouver $\\beta$ qui minimise: \n",
    "$$\n",
    "||\\Delta Q- \\Delta t  U_{sec}I \\beta||^2=\\sum_{i=0}^{N-1}(Q_{i+1}-(Q_i + \\Delta t \\beta U_{sec}I_i))^2\n",
    "$$\n",
    "\n",
    "Ou $\\Delta Q =(Q_{i+1}-Q_i)_{i \\in \\llbracket 0~;~ N-1 \\rrbracket}$ et $I=(I_i)_{i \\in \\llbracket 0~;~ N-1 \\rrbracket}$"
   ]
  },
  {
   "cell_type": "code",
   "execution_count": 4,
   "id": "18ba9dcd",
   "metadata": {},
   "outputs": [
    {
     "data": {
      "text/plain": [
       "(array([1.49904513]), array([1.9448285]))"
      ]
     },
     "execution_count": 4,
     "metadata": {},
     "output_type": "execute_result"
    }
   ],
   "source": [
    "Qmax=50\n",
    "a=np.array(1/3600 *230*data[\"I[A]\"])[:-1]\n",
    "Q=np.array(data[\"SOC [%]\"]*Qmax)[:-1] #on utilise la valeur de Q_bar= 50 Ah donnée dans l'énoncé question 7\n",
    "Q_plus=np.array(data[\"SOC [%]\"]*Qmax)[1:]\n",
    "b=Q_plus-Q\n",
    "beta,residuals,rank, s=np.linalg.lstsq(a[:,np.newaxis],b, rcond=None)\n",
    "beta,residuals"
   ]
  },
  {
   "cell_type": "markdown",
   "id": "7b94ba35",
   "metadata": {},
   "source": [
    "Sans traitement du signal, on obtient une valeur de $$ \\beta=1,5 V^{-1} $$"
   ]
  },
  {
   "cell_type": "markdown",
   "id": "6425fe9d",
   "metadata": {},
   "source": [
    "On représente désormais le resultat de la méthode des moindres carrés sur le même graphe que les points de la data originale."
   ]
  },
  {
   "cell_type": "code",
   "execution_count": 5,
   "id": "59f4551b",
   "metadata": {},
   "outputs": [
    {
     "data": {
      "image/png": "[encoded data removed]",
      "text/plain": [
       "<Figure size 432x288 with 1 Axes>"
      ]
     },
     "metadata": {
      "needs_background": "light"
     },
     "output_type": "display_data"
    }
   ],
   "source": [
    "_ = plt.plot(a, b, 'o', label='Original data', markersize=5)\n",
    "_ = plt.plot(a, beta*a  , 'r', label='Fitted line')\n",
    "plt.xlabel(r\"a=$ \\Delta t U_{sec} I$\")\n",
    "plt.ylabel(r\"b=$ \\Delta Q$\")\n",
    "_ = plt.legend()\n",
    "plt.show()"
   ]
  },
  {
   "cell_type": "markdown",
   "id": "6d2eead1",
   "metadata": {},
   "source": [
    "Tentons d'éliminer le bruit des signaux. On va tout d'abord construire un filtre à l'aide de scipy.signal.ellip, puis on va appliquer deux méthodes différentes de la bibliothèque scipy.signal afin de filtrer le signal b: la méthode Gustafsson et la méthode du padding."
   ]
  },
  {
   "cell_type": "code",
   "execution_count": 6,
   "id": "49416dca",
   "metadata": {},
   "outputs": [
    {
     "ename": "AttributeError",
     "evalue": "module 'scipy' has no attribute 'signal'",
     "output_type": "error",
     "traceback": [
      "\u001b[0;31m---------------------------------------------------------------------------\u001b[0m",
      "\u001b[0;31mAttributeError\u001b[0m                            Traceback (most recent call last)",
      "\u001b[1;32m/Users/raphaelzaghroun/Documents/GitHub/Projet-Optimisation-gr5/Projet Optimisation.ipynb Cell 28'\u001b[0m in \u001b[0;36m<cell line: 1>\u001b[0;34m()\u001b[0m\n\u001b[0;32m----> <a href='vscode-notebook-cell:/Users/raphaelzaghroun/Documents/GitHub/Projet-Optimisation-gr5/Projet%20Optimisation.ipynb#ch0000027?line=0'>1</a>\u001b[0m c, d \u001b[39m=\u001b[39m scipy\u001b[39m.\u001b[39;49msignal\u001b[39m.\u001b[39mellip(\u001b[39m4\u001b[39m, \u001b[39m0.01\u001b[39m, \u001b[39m120\u001b[39m, \u001b[39m0.125\u001b[39m)\n\u001b[1;32m      <a href='vscode-notebook-cell:/Users/raphaelzaghroun/Documents/GitHub/Projet-Optimisation-gr5/Projet%20Optimisation.ipynb#ch0000027?line=2'>3</a>\u001b[0m fgust \u001b[39m=\u001b[39m scipy\u001b[39m.\u001b[39msignal\u001b[39m.\u001b[39mfiltfilt(c, d, b, method\u001b[39m=\u001b[39m\u001b[39m\"\u001b[39m\u001b[39mgust\u001b[39m\u001b[39m\"\u001b[39m)\n\u001b[1;32m      <a href='vscode-notebook-cell:/Users/raphaelzaghroun/Documents/GitHub/Projet-Optimisation-gr5/Projet%20Optimisation.ipynb#ch0000027?line=3'>4</a>\u001b[0m fpad \u001b[39m=\u001b[39m scipy\u001b[39m.\u001b[39msignal\u001b[39m.\u001b[39mfiltfilt(c, d, b, padlen\u001b[39m=\u001b[39m\u001b[39m50\u001b[39m)\n",
      "\u001b[0;31mAttributeError\u001b[0m: module 'scipy' has no attribute 'signal'"
     ]
    }
   ],
   "source": [
    "\n",
    "c, d = scipy.signal.ellip(4, 0.01, 120, 0.125)\n",
    "\n",
    "fgust = scipy.signal.filtfilt(c, d, b, method=\"gust\")\n",
    "fpad = scipy.signal.filtfilt(c, d, b, padlen=50)\n",
    "plt.plot(b, 'k-', label='input')\n",
    "plt.plot(fgust, 'b-', linewidth=4, label='gust')\n",
    "plt.plot(fpad, 'c-', linewidth=1.5, label='pad')\n",
    "plt.xlabel(\"Time [s]\")\n",
    "plt.ylabel(r\"b=$ \\Delta Q$\")\n",
    "plt.legend(loc='best')\n",
    "plt.show()\n",
    "\n"
   ]
  },
  {
   "cell_type": "code",
   "execution_count": null,
   "id": "a43f6c8a",
   "metadata": {},
   "outputs": [
    {
     "data": {
      "image/png": "[encoded data removed]",
      "text/plain": [
       "<Figure size 432x288 with 1 Axes>"
      ]
     },
     "metadata": {
      "needs_background": "light"
     },
     "output_type": "display_data"
    }
   ],
   "source": [
    "\n",
    "c1, d1 = scipy.signal.ellip(4, 0.01, 120, 0.125)\n",
    "\n",
    "fgust1 = scipy.signal.filtfilt(c1, d1, a, method=\"gust\")\n",
    "fpad1 = scipy.signal.filtfilt(c1, d1, a, padlen=50)\n",
    "plt.plot(a, 'k-', label='input')\n",
    "#plt.plot(fgust, 'b-', linewidth=4, label='gust')\n",
    "#plt.plot(fpad, 'c-', linewidth=1.5, label='pad')\n",
    "plt.xlabel(\"Time [s]\")\n",
    "plt.ylabel(r\"a=$ \\Delta t U_{sec} I$\")\n",
    "plt.legend(loc='best')\n",
    "plt.show()"
   ]
  },
  {
   "cell_type": "markdown",
   "id": "6d5a0912",
   "metadata": {},
   "source": [
    "Après analyse des résultats, la courbe de a est très peu bruitée, on peut donc conserver a dans la méthode des moindres carrés. Cependant, on peut prendre la méthode de Gustafsson pour b. "
   ]
  },
  {
   "cell_type": "code",
   "execution_count": null,
   "id": "d8bb0e44",
   "metadata": {},
   "outputs": [
    {
     "name": "stdout",
     "output_type": "stream",
     "text": [
      "[1.46749468] [0.24744639]\n"
     ]
    },
    {
     "data": {
      "image/png": "[encoded data removed]",
      "text/plain": [
       "<Figure size 432x288 with 1 Axes>"
      ]
     },
     "metadata": {
      "needs_background": "light"
     },
     "output_type": "display_data"
    }
   ],
   "source": [
    "beta1,residuals1,rank1, s1=np.linalg.lstsq(a[:,np.newaxis],fgust, rcond=None)\n",
    "print(beta1,residuals1)\n",
    "_ = plt.plot(a, fgust, 'o', label='Original data', markersize=5)\n",
    "_ = plt.plot(a, beta1*a  , 'r', label='Fitted line')\n",
    "plt.xlabel(r\"a=$ \\Delta t U_{sec} I$\")\n",
    "plt.ylabel(r\"$b_{corrigé}= \\Delta Q$\")\n",
    "_ = plt.legend()\n",
    "plt.show()\n"
   ]
  },
  {
   "cell_type": "markdown",
   "id": "0d8ccd62",
   "metadata": {},
   "source": [
    "Après filtrage, on remarque que l'erreur résiduelle a beaucoup baissé et se rapproche de 0. La valeur de $\\beta$ a un peu évolué pour atteindre $$ \\beta_1= 1.47 V^{-1}$$"
   ]
  },
  {
   "cell_type": "markdown",
   "id": "91ddacb2",
   "metadata": {},
   "source": [
    "$\\\\$"
   ]
  },
  {
   "cell_type": "markdown",
   "id": "a328a1b0",
   "metadata": {},
   "source": [
    "$\\underline{Question ~ 6}$\n"
   ]
  },
  {
   "cell_type": "markdown",
   "id": "3d95b4bd",
   "metadata": {},
   "source": [
    "Le problème considéré est un problème d'optimisation différentiable sous contrainte de dimension finie. Le problème étant de plus linéaire et les contraintes affines, on peut transformer l'expression pour pouvoir utiliser la méthode du simplexe ou de la descente de gradient."
   ]
  },
  {
   "cell_type": "markdown",
   "id": "92933f44",
   "metadata": {},
   "source": [
    "$\\\\$"
   ]
  },
  {
   "cell_type": "markdown",
   "id": "a328a1b0",
   "metadata": {},
   "source": [
    "$\\underline{Question ~ 7}$\n"
   ]
  },
  {
   "cell_type": "markdown",
   "id": "277d2975",
   "metadata": {},
   "source": [
    "### Données"
   ]
  },
  {
   "cell_type": "code",
   "execution_count": null,
   "id": "c9c2cadf",
   "metadata": {},
   "outputs": [],
   "source": [
    "ccr=1\n",
    "cpl=3/2\n",
    "Qbar=50\n",
    "Pbar=5\n",
    "t0=17\n",
    "delta_t=0.25\n",
    "N=24*4+1\n",
    "Nv=2\n",
    "T=[t0+i*delta_t for i in range(N)]\n",
    "Q1_i=0.3*Qbar\n",
    "Q2_i=0.5*Qbar\n",
    "t1_i=18\n",
    "t2_i=18.5\n",
    "t1_f=32\n",
    "t2_f=33"
   ]
  },
  {
   "cell_type": "markdown",
   "id": "7e7a5f58",
   "metadata": {},
   "source": [
    "On va mettre en place la méthode du simplexe. \n",
    "Pour cela écrivons le problème initial comme un problème LP.\n",
    "\n",
    "On a déjà $N_v =2$ ce qui va simplifier l'expression du problème.\n",
    "\n",
    "$$\n",
    "\n",
    "f(P)= \\Delta t \\sum_{i=0}^{N}c_i P_{1,i} + \\Delta t \\sum_{i=0}^{N}c_i P_{2,i}= \\Delta t c^T (P_1 + P_2)= \\Delta t \\begin{pmatrix}\n",
    "c \\\\\n",
    "c\n",
    "\\end{pmatrix}^T \\begin{pmatrix}\n",
    "P_1 \\\\\n",
    "P_2\n",
    "\\end{pmatrix}\n",
    "\n",
    "$$\n",
    "\n",
    "Le problème devient donc la minimisation de $  \\Delta t \\begin{pmatrix}\n",
    "c \\\\\n",
    "c\n",
    "\\end{pmatrix}^T \\begin{pmatrix}\n",
    "P_1 \\\\\n",
    "P_2\n",
    "\\end{pmatrix} $\n",
    "\n",
    "Sous les contraintes: \n",
    "\n",
    "$P_{1, i} + P_{2, i} - \\bar{P} \\leq 0 , ~~$ pour $ ~\\quad i=0, \\ldots, N$,   $\\quad  \\sum_{i=i_{j0}}^{i_{jf}}P_{1,i}= \\frac{1}{\\Delta t \\beta}(\\bar{Q}-Q_1^{in}) \\quad$ et $ \\quad \\sum_{i=i_{j0}}^{i_{jf}}P_{2,i}= \\frac{1}{\\Delta t \\beta}(\\bar{Q}-Q_2^{in})$\n"
   ]
  },
  {
   "cell_type": "markdown",
   "id": "f82126e4",
   "metadata": {},
   "source": [
    "Définissons $$C^* = \\Delta t \\begin{pmatrix}\n",
    "c \\\\\n",
    "c\n",
    "\\end{pmatrix} $$ \n",
    "\n",
    "et \n",
    "$$\n",
    "X=\\begin{pmatrix}\n",
    "P_1 \\\\\n",
    "P_2\n",
    "\\end{pmatrix}\n",
    "$$"
   ]
  },
  {
   "cell_type": "code",
   "execution_count": null,
   "id": "d82dffa1",
   "metadata": {},
   "outputs": [],
   "source": [
    "c=[cpl for _ in range(N)]\n",
    "for i in range(96-68-1,121-68):\n",
    "    c[i]=ccr\n",
    "for i in range(144-68-1,153-68):\n",
    "    c[i]=ccr\n",
    "\n",
    "csum= c+c\n",
    "Cstar=delta_t*np.array(csum).T\n",
    "\n",
    "\n"
   ]
  },
  {
   "cell_type": "code",
   "execution_count": null,
   "id": "e862dc0e",
   "metadata": {},
   "outputs": [],
   "source": [
    "A_ublist=[[0]*2*N for i in range(N)]\n",
    "for j in range(N):\n",
    "    for i in range(N):\n",
    "        if j==i:\n",
    "            A_ublist[i][j]=1\n",
    "            A_ublist[i][j+N]=1\n",
    "\n",
    "A_ub=np.array(A_ublist)\n",
    "\n",
    "b_ub=np.array([Pbar for _ in range(N)])"
   ]
  },
  {
   "cell_type": "code",
   "execution_count": null,
   "id": "670fdeea",
   "metadata": {},
   "outputs": [],
   "source": [
    "A_eq1list=[0]*2*N\n",
    "for i in range(int((t1_i-t0)/delta_t),int((t1_f-t0)/delta_t) +1):\n",
    "    A_eq1list[i]=1 \n",
    "\n",
    "A_eq2list=[0]*2*N\n",
    "for i in range(N+int((t2_i-t0)/delta_t)-1,int((t2_f-t0)/delta_t) +N):\n",
    "    A_eq2list[i]=1 \n",
    "\n",
    "A_eqsum=A_eq1list+A_eq2list\n",
    "A_eq=np.array([A_eq1list,A_eq2list])\n",
    "\n",
    "b_eq=np.array([1/(delta_t*beta1)*(Qbar-Q1_i),1/(delta_t*beta1)*(Qbar-Q2_i)])\n"
   ]
  },
  {
   "cell_type": "code",
   "execution_count": null,
   "id": "e2725728",
   "metadata": {},
   "outputs": [
    {
     "name": "stdout",
     "output_type": "stream",
     "text": [
      "solution P1: \n",
      " [0.         0.         0.         0.         0.         0.\n",
      " 0.         0.         0.         0.         0.         0.\n",
      " 0.         0.         0.         0.         0.         0.\n",
      " 0.         0.         0.         0.         0.         0.\n",
      " 0.         0.         0.         5.         0.         0.\n",
      " 0.         0.         0.         0.         0.         0.\n",
      " 0.         0.         0.         0.         0.         1.85665226\n",
      " 5.         5.         5.         5.         5.         5.\n",
      " 5.         5.         5.         5.         5.         0.\n",
      " 3.54403457 5.         5.         5.         5.         5.\n",
      " 5.         0.         0.         0.         0.         0.\n",
      " 0.         0.         0.         0.         0.         0.\n",
      " 0.         0.         0.         0.         0.         0.\n",
      " 0.         0.         0.         0.         0.         0.\n",
      " 0.         0.         0.         0.         0.         0.\n",
      " 0.         0.         0.         0.         0.         0.\n",
      " 0.        ] \n",
      " solution P2: \n",
      " [0.         0.         0.         0.         0.         0.\n",
      " 0.         0.         0.         0.         0.         0.\n",
      " 0.         0.         0.         0.         0.         0.\n",
      " 0.         0.         0.         0.         0.         0.\n",
      " 0.         0.         0.         0.         5.         5.\n",
      " 5.         5.         5.         5.         5.         5.\n",
      " 5.         5.         5.         5.         5.         3.14334774\n",
      " 0.         0.         0.         0.         0.         0.\n",
      " 0.         0.         0.         0.         0.         0.\n",
      " 0.         0.         0.         0.         0.         0.\n",
      " 0.         0.         0.         0.         0.         0.\n",
      " 0.         0.         0.         0.         0.         0.\n",
      " 0.         0.         0.         0.         0.         0.\n",
      " 0.         0.         0.         0.         0.         0.\n",
      " 0.         0.         0.         0.         0.         0.\n",
      " 0.         0.         0.         0.         0.         0.\n",
      " 0.        ] \n",
      " valeur de f(P) pour P optimisé:  45.079012965253284\n"
     ]
    }
   ],
   "source": [
    "res=scipy.optimize.linprog(Cstar, A_ub, b_ub, A_eq, b_eq, bounds=None, method='simplex', callback=None)\n",
    "\n",
    "print(\"solution P1: \\n\", res.x[:N],\"\\n solution P2: \\n\", res.x[-N:],\"\\n valeur de f(P) pour P optimisé: \", res.fun )"
   ]
  },
  {
   "cell_type": "code",
   "execution_count": null,
   "id": "e9c79971",
   "metadata": {},
   "outputs": [
    {
     "data": {
      "image/png": "[encoded data removed]",
      "text/plain": [
       "<Figure size 432x288 with 1 Axes>"
      ]
     },
     "metadata": {
      "needs_background": "light"
     },
     "output_type": "display_data"
    }
   ],
   "source": [
    "plt.plot([i*0.25+17-24 for i in range(N)],res.x[:N], label=\"P1\")\n",
    "plt.plot([i*0.25+17-24 for i in range(N)],res.x[-N:], label=\"P2\")\n",
    "plt.xlabel(\"Temps (h) avec 0 égal à minuit\")\n",
    "plt.ylabel(\"Puissance distribuée en W\")\n",
    "plt.title(\"Résultats de la méthode centralisée\")\n",
    "plt.legend()\n",
    "plt.show()\n"
   ]
  },
  {
   "cell_type": "markdown",
   "id": "73c69300",
   "metadata": {},
   "source": [
    "### Analyse des résultats obtenus\n",
    "\n",
    "Bien que la voiture 1 arrive avant la seconde, on remarque que c'est bien la voiture 2 qui charge totalement en premier puis laisse place à la voiture 1 pour charger à sa suite. \n",
    "Cette solution centralisée ne semble donc pas la plus pertinente puisque elle ne prend pas en compte l'ordre d'arrivée des véhicules et ne permet pas de chargerv les deux véhicules simultanément avec un partage de la puissance totale. On observe tout de même que la voiture 1 charge plus longtemps que la voiture 2, ce qui est cohérent avec les charges initiales respectives des véhicules."
   ]
  },
  {
   "cell_type": "markdown",
   "id": "84db36b7",
   "metadata": {},
   "source": [
    "$\\\\$"
   ]
  },
  {
   "cell_type": "markdown",
   "id": "79fd3bef",
   "metadata": {},
   "source": [
    "$\\underline{Question ~ 8}$"
   ]
  },
  {
   "cell_type": "markdown",
   "id": "0b217360",
   "metadata": {},
   "source": [
    "Comme précisé ci-dessus, la solution centralisée ne prend pas en compte l'ordre d'arrivée des véhicules et ne peut pas charger plusieurs véhicules simultanément. En effet, le problème d'optimisation est résolu pour les deux véhicules liés et il manque des contraintes personnalisées pour chacun des véhicules afin que l'optimiseur puisse donner un résultat plus en accord avec ce que l'on voudrait. "
   ]
  },
  {
   "cell_type": "markdown",
   "id": "647d9124",
   "metadata": {},
   "source": [
    "$\\\\$"
   ]
  },
  {
   "cell_type": "markdown",
   "id": "be224b84",
   "metadata": {},
   "source": [
    "$\\underline{Question ~ 9~a}$"
   ]
  },
  {
   "cell_type": "markdown",
   "id": "22fbc128",
   "metadata": {},
   "source": [
    "Posons \n",
    "$$\n",
    "e_i = \\begin{pmatrix}\n",
    "0 \\\\\n",
    ". \\\\\n",
    "0 \\\\\n",
    "1 \\\\\n",
    "0 \\\\\n",
    ". \\\\\n",
    "0\n",
    "\\end{pmatrix}, \n",
    "$$\n",
    "\n"
   ]
  },
  {
   "cell_type": "markdown",
   "id": "31932404",
   "metadata": {},
   "source": [
    "On cherche désormais à mininmiser la fonction :\n",
    "$$\n",
    "f(P) = \\sum_{j=1}^{N_V} \\sum_{i=0}^{N}\\left(\\Delta t c_{i} P_{j, i}+\\varepsilon\\left(P_{j, i}\\right)^{2}\\right)\n",
    "$$\n",
    "On peut décomposer cette fonction telle que \n",
    "$$\n",
    "f(P) = \\sum_{j=1}^{N_V} f_{j}(x_j)\n",
    "$$\n",
    "Avec $x_j = (P_{j,i})_{i \\in \\llbracket 0, N \\rrbracket}$\n",
    "$\\\\$ \n",
    "\n",
    "Et $f_{j}(x_j) = \\sum_{i=0}^{N} [\\Delta t \\space c_{i} \\space x_j.e_i +\\varepsilon\\left(x_j.e_i\\right)^{2}]$ "
   ]
  },
  {
   "cell_type": "markdown",
   "id": "32fb6c8a",
   "metadata": {},
   "source": [
    "On peut définir les contraintes comme:\n",
    "\n",
    "$ (-P_{j,i} \\leq 0) $ A VOIR SI BESOIN DE CETTE CONTRAINTE -> ON GARDE OU PAS ?\n",
    "\n",
    "\n",
    "Pour les contraintes égalité, nous n'avons pas besoin de les composer puisque qu'elles ne dépendent à chaque fois que de la valeur d'intérêt.\n",
    "\n",
    "$$ c_{eq}^j(x_j)=(1,\\dots,1)^T x_j-\\alpha_j =0$$\n",
    "\n",
    "où $ \\alpha_j = \\frac{\\bar{Q}-Q_j^{in}}{\\Delta t \\beta} $ \n",
    "\n",
    "On peut exprimer cette expression comme deux inégalités:\n",
    "$$(1,\\dots,1)^T x_j-\\alpha_j \\leq 0 $$\n",
    "$$ -(1,\\dots,1)^Tx_j+\\alpha_j \\leq 0 $$\n",
    "\n",
    "Pour finir, on doit décomposer les contraintes inéqualité comme dans l'annexe car elle ne dépendent pas que de la valeur d'intérêt mais également des autres. \n",
    "On choisit une répartion uniforme de $\\bar{P}$ pour ne pas privilégier un véhicule par rapport à un autre.\n",
    "$$c_{in}^j(x_j)=x_j-\\frac{1}{N_v}(\\bar{P}) \\leq 0$$\n",
    "\n",
    "où $ (\\bar{P})$ est un vecteur de dimension $N$.\n"
   ]
  },
  {
   "cell_type": "markdown",
   "id": "cfe608cc",
   "metadata": {},
   "source": [
    "On peut donc synthétiser tout cela dans le vecteur:\n",
    "\n",
    "$$c_j(x)=c_j(x_j)=\\begin{pmatrix}\n",
    "(1,\\dots,1)^T x_j-\\alpha_j \\\\\n",
    "-(1,\\dots,1)^T x_j-\\alpha_j \\\\\n",
    "x_j-\\frac{1}{N_v}(\\bar{P})\n",
    "\\end{pmatrix} \\leq 0$$\n",
    "\n",
    "où les dimensions de chaque sous-vecteur sont respectivement:\n",
    "$1$,$1$,$N$.\n",
    "\n",
    "Donc \n",
    "\n",
    "$$c(x)=\\sum_{j=1}^{N_v}\\begin{pmatrix}\n",
    "(1,\\dots,1)^T x_j-\\alpha_j \\\\\n",
    "-(1,\\dots,1)^T x_j-\\alpha_j \\\\\n",
    "x_j-\\frac{1}{N_v}(\\bar{P})\n",
    "\\end{pmatrix} $$\n",
    "\n",
    "\n",
    "\n"
   ]
  },
  {
   "cell_type": "markdown",
   "id": "4c6b712f",
   "metadata": {},
   "source": [
    "Le problème décentralisée peut donc s'écrire de la façon suivante: \n",
    "\n",
    "Pour tout $j \\in \\left\\{ 1, \\dots, N_v  \\right\\} $,\n",
    "$$ \\min_{x_j ~/ ~c_j(x)=c_{ij}(x_j) ~\\leq ~ 0 ~pour ~i \\in J_j} [f_j(x_j)+\\lambda^T c_j(x_j)]$$\n",
    "\n",
    "où $J_j$ est l'ensemble des indices des contraintes qui ne font intervenir que la variable $x_j$ et $I$ le complémentaire de $J= \\bigcup_{l=1}^{N_v} J_l $"
   ]
  },
  {
   "cell_type": "markdown",
   "id": "f3ef79b6",
   "metadata": {},
   "source": [
    "Algorithme :"
   ]
  },
  {
   "cell_type": "markdown",
   "id": "effbf9d9",
   "metadata": {},
   "source": [
    "Initialisation : on choisit le multiplicateur $\\lambda_0$ et le pas $\\rho$\n",
    "$\\\\$\n",
    "\n",
    "Décomposition : on résout les $N_v$ problèmes et on note $x_j^k$ les solutions respectives.\n",
    "$$\n",
    "\\min_{x_j ~/ ~c_j(x)=c_{lj}(x_j) ~\\leq ~ 0 ~pour ~l \\in J_j} [ \\sum_{i=0}^{N} \\Delta t \\space c_{i} \\space x_j. e_i +\\varepsilon \\left(x_j .e_i \\right)^{2} + \\sum_{l \\in I} (\\lambda_l^{k})^{\\space T}c_{lj}(x_j)] \n",
    "$$\n",
    "\n",
    "Coordination: Mise à jour du coefficient de Lagrange:\n",
    "$$\n",
    "\\lambda_l^{k+1}=\\max \\left\\{ \\lambda_l^{k}+ \\rho(c_{l1}(x_1^k)+c_{l2}(x_2^k)+ \\dots + c_{lN_v}(x_{N_v}^k))~, ~ 0\\right\\}, ~ l \\in I\n",
    "$$\n"
   ]
  },
  {
   "cell_type": "markdown",
   "id": "be224b84",
   "metadata": {},
   "source": [
    "$\\underline{Question  ~9 ~ b}$"
   ]
  },
  {
   "cell_type": "markdown",
   "id": "97ccd2c3",
   "metadata": {},
   "source": [
    "L'avantage de l'algorithme de décomposition/coordination est tout d'abord de réduire la dimension du problème de départ. Dans le cas de problème de grande échelle, il paraît plus évident de traiter un grand nombre de problèmes avec peu de dimension. Par ailleurs, la méthode de résolution de plus petits systèmes est plus compréhensible pour l'opérateur. La méthode permet également de résoudre les différents problèmes et de mettre en commun les informations différentes lors de la coordination: on décentralise donc les décisions de l'optimiseur contrairement à la méthode précédente.\n",
    "\n",
    "Contrairement au problème centralisée, certains sous-problèmes pourraient ne pas avoir de solution admissible si les contraintes des différents sous-problèmes interfèrent entre-elles, d'où l'utilité de les séparer comme on l'a fait.\n",
    "Par ailleurs, les contraintes sont plus importantes que dans le cas centralisé (on multiplie par le nombre de sous-problèmes)."
   ]
  },
  {
   "cell_type": "markdown",
   "id": "ecaf5f6a",
   "metadata": {},
   "source": [
    "$\\underline{Question  ~9 ~ c}$"
   ]
  },
  {
   "cell_type": "markdown",
   "id": "20699a87",
   "metadata": {},
   "source": [
    "On se place dans le même cas qu'à la question 7. On a donc les mêmes données."
   ]
  },
  {
   "cell_type": "markdown",
   "id": "277d2975",
   "metadata": {},
   "source": [
    "### Données"
   ]
  },
  {
   "cell_type": "code",
   "execution_count": null,
   "id": "c9c2cadf",
   "metadata": {},
   "outputs": [],
   "source": [
    "ccr=1\n",
    "cpl=3/2\n",
    "Qbar=50\n",
    "Pbar=5\n",
    "t0=17\n",
    "delta_t=0.25\n",
    "N=24*4+1\n",
    "Nv=2\n",
    "T=[t0+i*delta_t for i in range(N)]\n",
    "Q1_i=0.3*Qbar\n",
    "Q2_i=0.5*Qbar\n",
    "t1_i=18\n",
    "t2_i=18.5\n",
    "t1_f=32\n",
    "t2_f=33"
   ]
  },
  {
   "cell_type": "markdown",
   "id": "277d2975",
   "metadata": {},
   "source": [
    "### Nouvelles données"
   ]
  },
  {
   "cell_type": "code",
   "execution_count": null,
   "id": "c9c2cadf",
   "metadata": {},
   "outputs": [],
   "source": [
    "rho=1\n",
    "epsilon=1\n",
    "N_iter=100"
   ]
  },
  {
   "cell_type": "markdown",
   "id": "3c4141eb",
   "metadata": {},
   "source": [
    "Déterminons le multiplicateur de Lagrange initial $\\lambda_0$."
   ]
  },
  {
   "cell_type": "code",
   "execution_count": null,
   "id": "877a6df4",
   "metadata": {},
   "outputs": [
    {
     "data": {
      "text/plain": [
       "array([0., 0., 0., 0., 0., 0., 0., 0., 0., 0., 0., 0., 0., 0., 0., 0., 0.,\n",
       "       0., 0., 0., 0., 0., 0., 0., 0., 0., 0., 0., 0., 0., 0., 0., 0., 0.,\n",
       "       0., 0., 0., 0., 0., 0., 0., 0., 0., 0., 0., 0., 0., 0., 0., 0., 0.,\n",
       "       0., 0., 0., 0., 0., 0., 0., 0., 0., 0., 0., 0., 0., 0., 0., 0., 0.,\n",
       "       0., 0., 0., 0., 0., 0., 0., 0., 0., 0., 0., 0., 0., 0., 0., 0., 0.,\n",
       "       0., 0., 0., 0., 0., 0., 0., 0., 0., 0., 0., 0., 0., 0.])"
      ]
     },
     "execution_count": 391,
     "metadata": {},
     "output_type": "execute_result"
    }
   ],
   "source": [
    "def f(x_j):\n",
    "    sum=0\n",
    "    for i in range(N):\n",
    "        sum+= delta_t*c[i]*x_j[i]+epsilon*(x_j[i])**2 # c est défini dans la question 7\n",
    "    return sum\n",
    "\n",
    "def c_j(x_j,Qini_j):\n",
    "    res= np.zeros(N+2)\n",
    "    vec1=np.ones(N)\n",
    "    alpha_j=1/(delta_t*beta1)*(Qbar-Qini_j)\n",
    "    res[0]=vec1@x_j-alpha_j \n",
    "    res[1]=-vec1@x_j+alpha_j \n",
    "    for i in range(2,N+2):\n",
    "        res[i]=x_j[i-2]-1/Nv * Pbar\n"
   ]
  },
  {
   "cell_type": "markdown",
   "id": "89535c55",
   "metadata": {},
   "source": [
    "### Implémentation de l'algorithme"
   ]
  },
  {
   "cell_type": "code",
   "execution_count": 7,
   "id": "fd86e8eb",
   "metadata": {},
   "outputs": [
    {
     "ename": "SyntaxError",
     "evalue": "invalid syntax (159695592.py, line 4)",
     "output_type": "error",
     "traceback": [
      "\u001b[0;36m  Input \u001b[0;32mIn [7]\u001b[0;36m\u001b[0m\n\u001b[0;31m    lambda_k1=\u001b[0m\n\u001b[0m              ^\u001b[0m\n\u001b[0;31mSyntaxError\u001b[0m\u001b[0;31m:\u001b[0m invalid syntax\n"
     ]
    }
   ],
   "source": [
    "lambda_0=np.zeros(N+2)\n",
    "k=1\n",
    "lambda_k=lambda_0\n",
    "lambda_k1=\n",
    "while (k<=N_iter and np.abs(lambda_k1-lambda_k)>1e-1):"
   ]
  },
  {
   "cell_type": "code",
   "execution_count": null,
   "id": "04be7e0f",
   "metadata": {},
   "outputs": [],
   "source": []
  }
 ],
 "metadata": {
  "kernelspec": {
   "display_name": "Python 3 (ipykernel)",
   "language": "python",
   "name": "python3"
  },
  "language_info": {
   "codemirror_mode": {
    "name": "ipython",
    "version": 3
   },
   "file_extension": ".py",
   "mimetype": "text/x-python",
   "name": "python",
   "nbconvert_exporter": "python",
   "pygments_lexer": "ipython3",
   "version": "3.10.0"
  }
 },
 "nbformat": 4,
 "nbformat_minor": 5
}
